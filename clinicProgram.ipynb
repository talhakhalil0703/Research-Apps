{
 "cells": [
  {
   "cell_type": "code",
   "execution_count": 1,
   "metadata": {},
   "outputs": [],
   "source": [
    "import pandas as pd\n",
    "df = pd.read_excel('/Users/talhakhalil/Desktop/CRST Patient List_May 29 2019.xls')\n",
    "df.columns = ['Patients', 'Event Name', 'Date and Time', 'Subtotal score A', 'Subtotal score B','Subtotal score C', 'Total Score']\n",
    "df.drop([0], axis = 0, inplace = True)\n",
    "grouped = df.groupby('Patients')"
   ]
  },
  {
   "cell_type": "code",
   "execution_count": 18,
   "metadata": {},
   "outputs": [
    {
     "name": "stdout",
     "output_type": "stream",
     "text": [
      "9001\n",
      "9002\n",
      "9003\n",
      "9004\n",
      "9005\n",
      "9006\n",
      "9007\n",
      "9008\n",
      "9009\n",
      "9010\n",
      "9011\n",
      "9013\n",
      "9016\n",
      "9019\n",
      "9020\n",
      "9021\n",
      "9022\n",
      "9023\n",
      "9024\n",
      "9025\n"
     ]
    }
   ],
   "source": [
    "for patient in grouped.groups: \n",
    "    print (patient)"
   ]
  },
  {
   "cell_type": "code",
   "execution_count": null,
   "metadata": {},
   "outputs": [],
   "source": []
  },
  {
   "cell_type": "code",
   "execution_count": null,
   "metadata": {},
   "outputs": [],
   "source": []
  },
  {
   "cell_type": "code",
   "execution_count": 21,
   "metadata": {},
   "outputs": [
    {
     "data": {
      "text/html": [
       "<div>\n",
       "<style scoped>\n",
       "    .dataframe tbody tr th:only-of-type {\n",
       "        vertical-align: middle;\n",
       "    }\n",
       "\n",
       "    .dataframe tbody tr th {\n",
       "        vertical-align: top;\n",
       "    }\n",
       "\n",
       "    .dataframe thead th {\n",
       "        text-align: right;\n",
       "    }\n",
       "</style>\n",
       "<table border=\"1\" class=\"dataframe\">\n",
       "  <thead>\n",
       "    <tr style=\"text-align: right;\">\n",
       "      <th></th>\n",
       "      <th>1</th>\n",
       "      <th>2</th>\n",
       "      <th>3</th>\n",
       "    </tr>\n",
       "  </thead>\n",
       "  <tbody>\n",
       "    <tr>\n",
       "      <th>Patients</th>\n",
       "      <td>9001</td>\n",
       "      <td>9001</td>\n",
       "      <td>9001</td>\n",
       "    </tr>\n",
       "    <tr>\n",
       "      <th>Event Name</th>\n",
       "      <td>Baseline (Arm 6: HIFU)</td>\n",
       "      <td>3 month Post Op assessment (Arm 6: HIFU)</td>\n",
       "      <td>1 year Post Op assessment (Arm 6: HIFU)</td>\n",
       "    </tr>\n",
       "    <tr>\n",
       "      <th>Date and Time</th>\n",
       "      <td>NaN</td>\n",
       "      <td>NaN</td>\n",
       "      <td>2018-07-11 10:46:00</td>\n",
       "    </tr>\n",
       "    <tr>\n",
       "      <th>Subtotal score A</th>\n",
       "      <td>9</td>\n",
       "      <td>6</td>\n",
       "      <td>5.5</td>\n",
       "    </tr>\n",
       "    <tr>\n",
       "      <th>Subtotal score B</th>\n",
       "      <td>20</td>\n",
       "      <td>14</td>\n",
       "      <td>9</td>\n",
       "    </tr>\n",
       "    <tr>\n",
       "      <th>Subtotal score C</th>\n",
       "      <td>14</td>\n",
       "      <td>10</td>\n",
       "      <td>10</td>\n",
       "    </tr>\n",
       "    <tr>\n",
       "      <th>Total Score</th>\n",
       "      <td>43</td>\n",
       "      <td>30</td>\n",
       "      <td>24.5</td>\n",
       "    </tr>\n",
       "  </tbody>\n",
       "</table>\n",
       "</div>"
      ],
      "text/plain": [
       "                                       1  \\\n",
       "Patients                            9001   \n",
       "Event Name        Baseline (Arm 6: HIFU)   \n",
       "Date and Time                        NaN   \n",
       "Subtotal score A                       9   \n",
       "Subtotal score B                      20   \n",
       "Subtotal score C                      14   \n",
       "Total Score                           43   \n",
       "\n",
       "                                                         2  \\\n",
       "Patients                                              9001   \n",
       "Event Name        3 month Post Op assessment (Arm 6: HIFU)   \n",
       "Date and Time                                          NaN   \n",
       "Subtotal score A                                         6   \n",
       "Subtotal score B                                        14   \n",
       "Subtotal score C                                        10   \n",
       "Total Score                                             30   \n",
       "\n",
       "                                                        3  \n",
       "Patients                                             9001  \n",
       "Event Name        1 year Post Op assessment (Arm 6: HIFU)  \n",
       "Date and Time                         2018-07-11 10:46:00  \n",
       "Subtotal score A                                      5.5  \n",
       "Subtotal score B                                        9  \n",
       "Subtotal score C                                       10  \n",
       "Total Score                                          24.5  "
      ]
     },
     "execution_count": 21,
     "metadata": {},
     "output_type": "execute_result"
    }
   ],
   "source": [
    "new_group = grouped.get_group(9001).T\n",
    "new_group"
   ]
  },
  {
   "cell_type": "code",
   "execution_count": null,
   "metadata": {},
   "outputs": [],
   "source": []
  }
 ],
 "metadata": {
  "kernelspec": {
   "display_name": "Python 3",
   "language": "python",
   "name": "python3"
  },
  "language_info": {
   "codemirror_mode": {
    "name": "ipython",
    "version": 3
   },
   "file_extension": ".py",
   "mimetype": "text/x-python",
   "name": "python",
   "nbconvert_exporter": "python",
   "pygments_lexer": "ipython3",
   "version": "3.7.3"
  }
 },
 "nbformat": 4,
 "nbformat_minor": 2
}
